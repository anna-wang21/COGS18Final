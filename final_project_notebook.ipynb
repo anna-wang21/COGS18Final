{
 "cells": [
  {
   "cell_type": "markdown",
   "metadata": {},
   "source": [
    "# Project Description"
   ]
  },
  {
   "cell_type": "markdown",
   "metadata": {},
   "source": [
    "For my final project, I created a TravelBot named Kio! The purpose of the TravelBot is to inform people of experiences and opportunities at their next possible travel destinations. I also included a foods_dict to suggest foods to try out at each location in the response. Kio is only able to give information on  a few certain cities and countries but hopefully as time goes on, Kio TravelBot will continue to deliver sound suggestions about more and more locations. \n"
   ]
  },
  {
   "cell_type": "markdown",
   "metadata": {},
   "source": [
    "## Project Code"
   ]
  },
  {
   "cell_type": "code",
   "execution_count": 5,
   "metadata": {},
   "outputs": [],
   "source": [
    "import travel_bot_functions as tbf\n",
    "from test_functions import *"
   ]
  },
  {
   "cell_type": "code",
   "execution_count": 6,
   "metadata": {},
   "outputs": [
    {
     "name": "stdout",
     "output_type": "stream",
     "text": [
      "Hi! I'm Kio, I'm here to help you with your travel journeys! What location would you like to know more about?\n",
      "\n",
      "china\n",
      "Here are all the cities that I've traveled to in China if you would like to hear more: Beijing, Shanghai, Shenzhen, Dalian, Hong Kong\n",
      "Some foods to try here are: hot pot\n",
      "What other location do you want to hear more about?\n",
      "beijing\n",
      "For history and culture enthusiasts, make sure to visit Tiananmen Square, The Forbidden City, or The Great Wall of China!\n",
      "Some foods to try here are: peking duck\n",
      "What other location do you want to hear more about?\n",
      "canada\n",
      "Let us try talking about somewhere else!\n",
      "costa rica\n",
      "Costa Rica is known for its beaches, volcanoes, and biodiversity. When there, make sure to check out Monteverde Cloud Forest Reserve, Arenal Volcano, and Parque Nacional Manuel Antonio.\n",
      "Some foods to try here are: gallo pinto\n",
      "What other location do you want to hear more about?\n",
      "quit\n",
      "Thanks so much for chatting with me! Have a nice trip!\n"
     ]
    }
   ],
   "source": [
    "tbf.travel_bot()"
   ]
  },
  {
   "cell_type": "code",
   "execution_count": null,
   "metadata": {},
   "outputs": [],
   "source": []
  }
 ],
 "metadata": {
  "kernelspec": {
   "display_name": "Python 3",
   "language": "python",
   "name": "python3"
  },
  "language_info": {
   "codemirror_mode": {
    "name": "ipython",
    "version": 3
   },
   "file_extension": ".py",
   "mimetype": "text/x-python",
   "name": "python",
   "nbconvert_exporter": "python",
   "pygments_lexer": "ipython3",
   "version": "3.6.7"
  }
 },
 "nbformat": 4,
 "nbformat_minor": 2
}
